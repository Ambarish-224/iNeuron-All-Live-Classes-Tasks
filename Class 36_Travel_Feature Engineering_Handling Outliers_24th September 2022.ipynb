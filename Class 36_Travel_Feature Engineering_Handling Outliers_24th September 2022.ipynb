{
 "cells": [
  {
   "cell_type": "code",
   "execution_count": 1,
   "id": "c8692745",
   "metadata": {},
   "outputs": [],
   "source": [
    "# importing required libraries\n",
    "\n",
    "import pandas as pd\n",
    "import numpy as np\n",
    "import seaborn as sns\n",
    "import matplotlib.pyplot as plt\n",
    "\n",
    "%matplotlib inline\n",
    "\n",
    "import warnings\n",
    "warnings.filterwarnings(\"ignore\")\n",
    "\n",
    "# To display maximum columns of dataframe on screen\n",
    "pd.pandas.set_option('display.max_columns', None)"
   ]
  },
  {
   "cell_type": "markdown",
   "id": "6716efaf",
   "metadata": {},
   "source": [
    "### 1.0 Importing dataset after filling missing values"
   ]
  },
  {
   "cell_type": "code",
   "execution_count": 2,
   "id": "6e9e970c",
   "metadata": {},
   "outputs": [
    {
     "data": {
      "text/html": [
       "<div>\n",
       "<style scoped>\n",
       "    .dataframe tbody tr th:only-of-type {\n",
       "        vertical-align: middle;\n",
       "    }\n",
       "\n",
       "    .dataframe tbody tr th {\n",
       "        vertical-align: top;\n",
       "    }\n",
       "\n",
       "    .dataframe thead th {\n",
       "        text-align: right;\n",
       "    }\n",
       "</style>\n",
       "<table border=\"1\" class=\"dataframe\">\n",
       "  <thead>\n",
       "    <tr style=\"text-align: right;\">\n",
       "      <th></th>\n",
       "      <th>CustomerID</th>\n",
       "      <th>ProdTaken</th>\n",
       "      <th>Age</th>\n",
       "      <th>TypeofContact</th>\n",
       "      <th>CityTier</th>\n",
       "      <th>DurationOfPitch</th>\n",
       "      <th>Occupation</th>\n",
       "      <th>Gender</th>\n",
       "      <th>NumberOfPersonVisiting</th>\n",
       "      <th>NumberOfFollowups</th>\n",
       "      <th>ProductPitched</th>\n",
       "      <th>PreferredPropertyStar</th>\n",
       "      <th>MaritalStatus</th>\n",
       "      <th>NumberOfTrips</th>\n",
       "      <th>Passport</th>\n",
       "      <th>PitchSatisfactionScore</th>\n",
       "      <th>OwnCar</th>\n",
       "      <th>NumberOfChildrenVisiting</th>\n",
       "      <th>Designation</th>\n",
       "      <th>MonthlyIncome</th>\n",
       "    </tr>\n",
       "  </thead>\n",
       "  <tbody>\n",
       "    <tr>\n",
       "      <th>0</th>\n",
       "      <td>200000</td>\n",
       "      <td>1</td>\n",
       "      <td>41.0</td>\n",
       "      <td>Self Enquiry</td>\n",
       "      <td>3</td>\n",
       "      <td>6.0</td>\n",
       "      <td>Salaried</td>\n",
       "      <td>Female</td>\n",
       "      <td>3</td>\n",
       "      <td>3.0</td>\n",
       "      <td>Deluxe</td>\n",
       "      <td>3.0</td>\n",
       "      <td>Single</td>\n",
       "      <td>1.0</td>\n",
       "      <td>1</td>\n",
       "      <td>2</td>\n",
       "      <td>1</td>\n",
       "      <td>0.0</td>\n",
       "      <td>Manager</td>\n",
       "      <td>20993.0</td>\n",
       "    </tr>\n",
       "    <tr>\n",
       "      <th>1</th>\n",
       "      <td>200001</td>\n",
       "      <td>0</td>\n",
       "      <td>49.0</td>\n",
       "      <td>Company Invited</td>\n",
       "      <td>1</td>\n",
       "      <td>14.0</td>\n",
       "      <td>Salaried</td>\n",
       "      <td>Male</td>\n",
       "      <td>3</td>\n",
       "      <td>4.0</td>\n",
       "      <td>Deluxe</td>\n",
       "      <td>4.0</td>\n",
       "      <td>Divorced</td>\n",
       "      <td>2.0</td>\n",
       "      <td>0</td>\n",
       "      <td>3</td>\n",
       "      <td>1</td>\n",
       "      <td>2.0</td>\n",
       "      <td>Manager</td>\n",
       "      <td>20130.0</td>\n",
       "    </tr>\n",
       "    <tr>\n",
       "      <th>2</th>\n",
       "      <td>200002</td>\n",
       "      <td>1</td>\n",
       "      <td>37.0</td>\n",
       "      <td>Self Enquiry</td>\n",
       "      <td>1</td>\n",
       "      <td>8.0</td>\n",
       "      <td>Free Lancer</td>\n",
       "      <td>Male</td>\n",
       "      <td>3</td>\n",
       "      <td>4.0</td>\n",
       "      <td>Basic</td>\n",
       "      <td>3.0</td>\n",
       "      <td>Single</td>\n",
       "      <td>7.0</td>\n",
       "      <td>1</td>\n",
       "      <td>3</td>\n",
       "      <td>0</td>\n",
       "      <td>0.0</td>\n",
       "      <td>Executive</td>\n",
       "      <td>17090.0</td>\n",
       "    </tr>\n",
       "    <tr>\n",
       "      <th>3</th>\n",
       "      <td>200003</td>\n",
       "      <td>0</td>\n",
       "      <td>33.0</td>\n",
       "      <td>Company Invited</td>\n",
       "      <td>1</td>\n",
       "      <td>9.0</td>\n",
       "      <td>Salaried</td>\n",
       "      <td>Female</td>\n",
       "      <td>2</td>\n",
       "      <td>3.0</td>\n",
       "      <td>Basic</td>\n",
       "      <td>3.0</td>\n",
       "      <td>Divorced</td>\n",
       "      <td>2.0</td>\n",
       "      <td>1</td>\n",
       "      <td>5</td>\n",
       "      <td>1</td>\n",
       "      <td>1.0</td>\n",
       "      <td>Executive</td>\n",
       "      <td>17909.0</td>\n",
       "    </tr>\n",
       "    <tr>\n",
       "      <th>4</th>\n",
       "      <td>200004</td>\n",
       "      <td>0</td>\n",
       "      <td>36.0</td>\n",
       "      <td>Self Enquiry</td>\n",
       "      <td>1</td>\n",
       "      <td>8.0</td>\n",
       "      <td>Small Business</td>\n",
       "      <td>Male</td>\n",
       "      <td>2</td>\n",
       "      <td>3.0</td>\n",
       "      <td>Basic</td>\n",
       "      <td>4.0</td>\n",
       "      <td>Divorced</td>\n",
       "      <td>1.0</td>\n",
       "      <td>0</td>\n",
       "      <td>5</td>\n",
       "      <td>1</td>\n",
       "      <td>0.0</td>\n",
       "      <td>Executive</td>\n",
       "      <td>18468.0</td>\n",
       "    </tr>\n",
       "  </tbody>\n",
       "</table>\n",
       "</div>"
      ],
      "text/plain": [
       "   CustomerID  ProdTaken   Age    TypeofContact  CityTier  DurationOfPitch  \\\n",
       "0      200000          1  41.0     Self Enquiry         3              6.0   \n",
       "1      200001          0  49.0  Company Invited         1             14.0   \n",
       "2      200002          1  37.0     Self Enquiry         1              8.0   \n",
       "3      200003          0  33.0  Company Invited         1              9.0   \n",
       "4      200004          0  36.0     Self Enquiry         1              8.0   \n",
       "\n",
       "       Occupation  Gender  NumberOfPersonVisiting  NumberOfFollowups  \\\n",
       "0        Salaried  Female                       3                3.0   \n",
       "1        Salaried    Male                       3                4.0   \n",
       "2     Free Lancer    Male                       3                4.0   \n",
       "3        Salaried  Female                       2                3.0   \n",
       "4  Small Business    Male                       2                3.0   \n",
       "\n",
       "  ProductPitched  PreferredPropertyStar MaritalStatus  NumberOfTrips  \\\n",
       "0         Deluxe                    3.0        Single            1.0   \n",
       "1         Deluxe                    4.0      Divorced            2.0   \n",
       "2          Basic                    3.0        Single            7.0   \n",
       "3          Basic                    3.0      Divorced            2.0   \n",
       "4          Basic                    4.0      Divorced            1.0   \n",
       "\n",
       "   Passport  PitchSatisfactionScore  OwnCar  NumberOfChildrenVisiting  \\\n",
       "0         1                       2       1                       0.0   \n",
       "1         0                       3       1                       2.0   \n",
       "2         1                       3       0                       0.0   \n",
       "3         1                       5       1                       1.0   \n",
       "4         0                       5       1                       0.0   \n",
       "\n",
       "  Designation  MonthlyIncome  \n",
       "0     Manager        20993.0  \n",
       "1     Manager        20130.0  \n",
       "2   Executive        17090.0  \n",
       "3   Executive        17909.0  \n",
       "4   Executive        18468.0  "
      ]
     },
     "execution_count": 2,
     "metadata": {},
     "output_type": "execute_result"
    }
   ],
   "source": [
    "dataset=pd.read_csv('Travel_missing_filled.csv')\n",
    "dataset.head()"
   ]
  },
  {
   "cell_type": "code",
   "execution_count": 3,
   "id": "f32e46b5",
   "metadata": {},
   "outputs": [],
   "source": [
    "# from EDA section getting continuous feature list\n",
    "continuous_numerical_features=['Age', 'DurationOfPitch', 'MonthlyIncome']"
   ]
  },
  {
   "cell_type": "markdown",
   "id": "34cee83e",
   "metadata": {},
   "source": [
    "### 2.0 Visualising outliers\n",
    "1. using boxplot"
   ]
  },
  {
   "cell_type": "code",
   "execution_count": 4,
   "id": "73a64d18",
   "metadata": {},
   "outputs": [
    {
     "data": {
      "image/png": "[encoded data removed]",
      "text/plain": [
       "<Figure size 432x288 with 1 Axes>"
      ]
     },
     "metadata": {
      "needs_background": "light"
     },
     "output_type": "display_data"
    },
    {
     "data": {
      "image/png": "[encoded data removed]",
      "text/plain": [
       "<Figure size 432x288 with 1 Axes>"
      ]
     },
     "metadata": {
      "needs_background": "light"
     },
     "output_type": "display_data"
    },
    {
     "data": {
      "image/png": "[encoded data removed]",
      "text/plain": [
       "<Figure size 432x288 with 1 Axes>"
      ]
     },
     "metadata": {
      "needs_background": "light"
     },
     "output_type": "display_data"
    }
   ],
   "source": [
    "for feature in continuous_numerical_features:\n",
    "    data1 = dataset.copy()\n",
    "    # here we are ignoring all zero values,since log(0) is undefined\n",
    "    if 0 in data1[feature].unique(): \n",
    "        pass\n",
    "    else:\n",
    "        data1[feature]=np.log(data1[feature])\n",
    "        #data1.boxplot(column=feature)\n",
    "        sns.boxplot(data=data1[feature])\n",
    "        plt.ylabel(feature)\n",
    "        plt.title(feature)\n",
    "        plt.show();  "
   ]
  },
  {
   "cell_type": "markdown",
   "id": "6cc1991a",
   "metadata": {},
   "source": [
    "### 3.0 Handling outliers"
   ]
  },
  {
   "cell_type": "markdown",
   "id": "de7ca792",
   "metadata": {},
   "source": [
    "### 3.1 Trimming outliers from the dataset\n",
    "1. Trimming, or truncating, is the process of removing observations that show outliers in one or more variables in the dataset. There are three commonly used methods to set the boundaries beyond which a value can be considered an outlier. If the variable is normally distributed, the boundaries are given by the mean plus or minus three times the standard deviation, as approximately 99% of the data will be distributed between those limits. For normally, as well as not normally, distributed variables, we can determine the limits using the inter-quartile range proximity rules or by directly setting the limits to the 5th and 95th quantiles."
   ]
  },
  {
   "cell_type": "code",
   "execution_count": 13,
   "id": "7e137d13",
   "metadata": {},
   "outputs": [],
   "source": [
    "### function to find the outliers, using the inter-quartile range proximity rule.\n",
    "\n",
    "def find_outliers(in_data, in_feature):\n",
    "    IQR=(in_data[feature].quantile(0.75))-(in_data[feature].quantile(0.25))\n",
    "    \n",
    "    lower_bound=in_data[feature].quantile(0.25)-(1.5*IQR)\n",
    "    upper_bound=in_data[feature].quantile(0.75)+(1.5*IQR)\n",
    "    \n",
    "    ls = in_data.index[(in_data[in_feature]<lower_bound) | (in_data[in_feature]>upper_bound)]\n",
    "    \n",
    "    return ls\n"
   ]
  },
  {
   "cell_type": "code",
   "execution_count": 14,
   "id": "75fb5b04",
   "metadata": {},
   "outputs": [],
   "source": [
    "### function to remove outliers \n",
    "\n",
    "def remove_outliers(in_data, index_list):\n",
    "    index_list=sorted(set(index_list))\n",
    "    in_data=in_data.drop(index_list)\n",
    "    return in_data"
   ]
  },
  {
   "cell_type": "code",
   "execution_count": 17,
   "id": "2046e1ea",
   "metadata": {},
   "outputs": [
    {
     "data": {
      "image/png": "[encoded data removed]",
      "text/plain": [
       "<Figure size 432x288 with 1 Axes>"
      ]
     },
     "metadata": {
      "needs_background": "light"
     },
     "output_type": "display_data"
    },
    {
     "data": {
      "image/png": "[encoded data removed]",
      "text/plain": [
       "<Figure size 432x288 with 1 Axes>"
      ]
     },
     "metadata": {
      "needs_background": "light"
     },
     "output_type": "display_data"
    },
    {
     "data": {
      "image/png": "[encoded data removed]",
      "text/plain": [
       "<Figure size 432x288 with 1 Axes>"
      ]
     },
     "metadata": {
      "needs_background": "light"
     },
     "output_type": "display_data"
    }
   ],
   "source": [
    "data1=dataset.copy()\n",
    "\n",
    "index_outliers=[]\n",
    "for feature in continuous_numerical_features:\n",
    "    index_outliers.extend(find_outliers(data1, feature))\n",
    "\n",
    "data1=remove_outliers(data1, index_outliers)\n",
    "\n",
    "for feature in continuous_numerical_features:\n",
    "    # here we are ignoring all zero values,since log(0) is undefined\n",
    "    if 0 in data1[feature].unique(): \n",
    "        pass\n",
    "    else:\n",
    "        data1[feature]=np.log(data1[feature])\n",
    "        #data1.boxplot(column=feature)\n",
    "        sns.boxplot(data=data1[feature])\n",
    "        plt.ylabel(feature)\n",
    "        plt.title(feature)\n",
    "        plt.show();     "
   ]
  },
  {
   "cell_type": "code",
   "execution_count": 18,
   "id": "d221cbc1",
   "metadata": {},
   "outputs": [
    {
     "data": {
      "text/plain": [
       "(4407, 20)"
      ]
     },
     "execution_count": 18,
     "metadata": {},
     "output_type": "execute_result"
    }
   ],
   "source": [
    "# it is clearly visible that outliers are removed\n",
    "data1.shape"
   ]
  },
  {
   "cell_type": "markdown",
   "id": "ce3514b7",
   "metadata": {},
   "source": [
    "### 3.2 winsorization\n",
    "1. Winsorization, or winsorizing, is the process of transforming the data by limiting the extreme values, that is, the outliers, to a certain arbitrary value, closer to the mean of the distribution. Winsorizing is different from trimming because the extreme values are not removed, but are instead replaced by other values. A typical strategy involves setting outliers to a specified percentile"
   ]
  },
  {
   "cell_type": "code",
   "execution_count": 74,
   "id": "558b9b6a",
   "metadata": {},
   "outputs": [],
   "source": [
    "# function to winsorize a variable to arbitrary upper and lower limits\n",
    "\n",
    "def winsorize(in_data, in_feature, limits):\n",
    "    s= in_data[feature]\n",
    "    return s.clip(lower=s.quantile(limits[0], interpolation='lower'), \n",
    "                  upper=s.quantile(1-limits[1], interpolation='higher'))"
   ]
  },
  {
   "cell_type": "code",
   "execution_count": 75,
   "id": "9f48619d",
   "metadata": {},
   "outputs": [
    {
     "data": {
      "image/png": "[encoded data removed]",
      "text/plain": [
       "<Figure size 432x288 with 1 Axes>"
      ]
     },
     "metadata": {
      "needs_background": "light"
     },
     "output_type": "display_data"
    },
    {
     "data": {
      "image/png": "[encoded data removed]",
      "text/plain": [
       "<Figure size 432x288 with 1 Axes>"
      ]
     },
     "metadata": {
      "needs_background": "light"
     },
     "output_type": "display_data"
    },
    {
     "data": {
      "image/png": "[encoded data removed]",
      "text/plain": [
       "<Figure size 432x288 with 1 Axes>"
      ]
     },
     "metadata": {
      "needs_background": "light"
     },
     "output_type": "display_data"
    }
   ],
   "source": [
    "data1=dataset.copy()\n",
    "\n",
    "for feature in continuous_numerical_features:\n",
    "    data1[feature]= winsorize(data1, feature, (0.95, 0.05))\n",
    "    \n",
    "for feature in continuous_numerical_features:\n",
    "    # here we are ignoring all zero values,since log(0) is undefined\n",
    "    if 0 in data_trimmed[feature].unique(): \n",
    "        pass\n",
    "    else:\n",
    "        data_trimmed[feature]=np.log(data_trimmed[feature])\n",
    "        #data1.boxplot(column=feature)\n",
    "        sns.boxplot(data=data_trimmed[feature])\n",
    "        plt.ylabel(feature)\n",
    "        plt.title(feature)\n",
    "        plt.show();     "
   ]
  }
 ],
 "metadata": {
  "kernelspec": {
   "display_name": "Python 3 (ipykernel)",
   "language": "python",
   "name": "python3"
  },
  "language_info": {
   "codemirror_mode": {
    "name": "ipython",
    "version": 3
   },
   "file_extension": ".py",
   "mimetype": "text/x-python",
   "name": "python",
   "nbconvert_exporter": "python",
   "pygments_lexer": "ipython3",
   "version": "3.9.12"
  }
 },
 "nbformat": 4,
 "nbformat_minor": 5
}
