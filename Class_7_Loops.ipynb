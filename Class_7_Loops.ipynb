{
  "nbformat": 4,
  "nbformat_minor": 0,
  "metadata": {
    "colab": {
      "name": "Class 7.ipynb",
      "provenance": [],
      "collapsed_sections": []
    },
    "kernelspec": {
      "name": "python3",
      "display_name": "Python 3"
    },
    "language_info": {
      "name": "python"
    }
  },
  "cells": [
    {
      "cell_type": "code",
      "execution_count": 1,
      "metadata": {
        "id": "pryA7BqMGorC"
      },
      "outputs": [],
      "source": [
        "l = [1,2,3,4,'sudh','kumar','45.56']"
      ]
    },
    {
      "cell_type": "code",
      "source": [
        "for i in l :\n",
        "  if i == 4 :\n",
        "    break  #Break means it will come out of the loop. Hence Else will not be printed\n",
        "  print(i)\n",
        "else :\n",
        "  print('This will only execute only if for is going to complete itself')"
      ],
      "metadata": {
        "colab": {
          "base_uri": "https://localhost:8080/"
        },
        "id": "HKzYlpkxGyjs",
        "outputId": "a2198f61-5b92-46e4-ea0f-8b013e86205b"
      },
      "execution_count": 2,
      "outputs": [
        {
          "output_type": "stream",
          "name": "stdout",
          "text": [
            "1\n",
            "2\n",
            "3\n"
          ]
        }
      ]
    },
    {
      "cell_type": "code",
      "source": [
        "s = 'sudhanshu'\n",
        "for i in s :\n",
        "  if i == 'n':\n",
        "    break\n",
        "  print(i)\n",
        "else:\n",
        "  print(\"print string\", s)"
      ],
      "metadata": {
        "colab": {
          "base_uri": "https://localhost:8080/"
        },
        "id": "8kHGrOK7HB_9",
        "outputId": "18fedff4-183c-43b8-9265-3a043c67f1ae"
      },
      "execution_count": 3,
      "outputs": [
        {
          "output_type": "stream",
          "name": "stdout",
          "text": [
            "s\n",
            "u\n",
            "d\n",
            "h\n",
            "a\n"
          ]
        }
      ]
    },
    {
      "cell_type": "code",
      "source": [
        "s = 'sudhanshu'\n",
        "for i in s :\n",
        "  if i == 'z':\n",
        "    break\n",
        "  print(i)\n",
        "else:\n",
        "  print(\"print string\", s)"
      ],
      "metadata": {
        "colab": {
          "base_uri": "https://localhost:8080/"
        },
        "id": "TFacquyBHSxH",
        "outputId": "986427db-fefc-4119-cb7b-94fb879c59d9"
      },
      "execution_count": 4,
      "outputs": [
        {
          "output_type": "stream",
          "name": "stdout",
          "text": [
            "s\n",
            "u\n",
            "d\n",
            "h\n",
            "a\n",
            "n\n",
            "s\n",
            "h\n",
            "u\n",
            "print string sudhanshu\n"
          ]
        }
      ]
    },
    {
      "cell_type": "code",
      "source": [
        "t = (4,5,6,7,8,9,\"sudh\") #Tuple\n",
        "for i in t:\n",
        "  print(i)\n"
      ],
      "metadata": {
        "colab": {
          "base_uri": "https://localhost:8080/"
        },
        "id": "d8Xtr0zrHwHF",
        "outputId": "74ba2583-b737-458d-b5e1-e12eaa0bf691"
      },
      "execution_count": 5,
      "outputs": [
        {
          "output_type": "stream",
          "name": "stdout",
          "text": [
            "4\n",
            "5\n",
            "6\n",
            "7\n",
            "8\n",
            "9\n",
            "sudh\n"
          ]
        }
      ]
    },
    {
      "cell_type": "code",
      "source": [
        "b = {4,5,6,7,7,7,7,7,7,7,7,8,\"sudh\"}\n",
        "type(b)"
      ],
      "metadata": {
        "colab": {
          "base_uri": "https://localhost:8080/"
        },
        "id": "dZYkVhZhIFgN",
        "outputId": "e76b61e4-328b-481c-eaf5-4ef65713f314"
      },
      "execution_count": 6,
      "outputs": [
        {
          "output_type": "execute_result",
          "data": {
            "text/plain": [
              "set"
            ]
          },
          "metadata": {},
          "execution_count": 6
        }
      ]
    },
    {
      "cell_type": "code",
      "source": [
        "for i in b:\n",
        "  print(i)"
      ],
      "metadata": {
        "colab": {
          "base_uri": "https://localhost:8080/"
        },
        "id": "0A3HkfxYIlFR",
        "outputId": "7eb4c43d-702c-470a-b310-45d9a234a1f4"
      },
      "execution_count": 7,
      "outputs": [
        {
          "output_type": "stream",
          "name": "stdout",
          "text": [
            "4\n",
            "5\n",
            "6\n",
            "7\n",
            "8\n",
            "sudh\n"
          ]
        }
      ]
    },
    {
      "cell_type": "code",
      "source": [
        "d = {'key1':'sudh','contact':'sudhanshu@ineuron.ai','position':\"xyz\"}\n",
        "for i in d :   #Dictionary\n",
        "  print(i)  #Keys are getting printed"
      ],
      "metadata": {
        "colab": {
          "base_uri": "https://localhost:8080/"
        },
        "id": "3lDDnHkhInOS",
        "outputId": "77714975-0628-4ace-c732-bc4c4a02c41b"
      },
      "execution_count": 8,
      "outputs": [
        {
          "output_type": "stream",
          "name": "stdout",
          "text": [
            "key1\n",
            "contact\n",
            "position\n"
          ]
        }
      ]
    },
    {
      "cell_type": "code",
      "source": [
        "for i in d :\n",
        "  print(d[i])  #Values will get printed"
      ],
      "metadata": {
        "colab": {
          "base_uri": "https://localhost:8080/"
        },
        "id": "Uftuv0GnJA66",
        "outputId": "bf015557-53e8-4474-9ba6-8270a6be048a"
      },
      "execution_count": 9,
      "outputs": [
        {
          "output_type": "stream",
          "name": "stdout",
          "text": [
            "sudh\n",
            "sudhanshu@ineuron.ai\n",
            "xyz\n"
          ]
        }
      ]
    },
    {
      "cell_type": "code",
      "source": [
        "for i in d :\n",
        "  print(i, \":\", d[i])  #Values will get printed"
      ],
      "metadata": {
        "colab": {
          "base_uri": "https://localhost:8080/"
        },
        "id": "fxMEOMdnJZ2U",
        "outputId": "f18657a7-3da8-4dab-a1ef-7cc51002becb"
      },
      "execution_count": 10,
      "outputs": [
        {
          "output_type": "stream",
          "name": "stdout",
          "text": [
            "key1 : sudh\n",
            "contact : sudhanshu@ineuron.ai\n",
            "position : xyz\n"
          ]
        }
      ]
    },
    {
      "cell_type": "code",
      "source": [
        "range(9)  #Generator: Generate dataset 0 to 8 (Output is object)"
      ],
      "metadata": {
        "colab": {
          "base_uri": "https://localhost:8080/"
        },
        "id": "KIJKf7VPJ5iH",
        "outputId": "9e460771-01db-4a3c-f21f-d6a33d6ce655"
      },
      "execution_count": 11,
      "outputs": [
        {
          "output_type": "execute_result",
          "data": {
            "text/plain": [
              "range(0, 9)"
            ]
          },
          "metadata": {},
          "execution_count": 11
        }
      ]
    },
    {
      "cell_type": "code",
      "source": [
        "list(range(9))"
      ],
      "metadata": {
        "colab": {
          "base_uri": "https://localhost:8080/"
        },
        "id": "Vk1QFkx7KiCk",
        "outputId": "7cf66c42-effc-40d6-c289-49fc88cd4e8e"
      },
      "execution_count": 14,
      "outputs": [
        {
          "output_type": "execute_result",
          "data": {
            "text/plain": [
              "[0, 1, 2, 3, 4, 5, 6, 7, 8]"
            ]
          },
          "metadata": {},
          "execution_count": 14
        }
      ]
    },
    {
      "cell_type": "code",
      "source": [
        "for i in range(9):\n",
        "  print(i)"
      ],
      "metadata": {
        "colab": {
          "base_uri": "https://localhost:8080/"
        },
        "id": "WpOjh6FlKpEH",
        "outputId": "25f87452-9ab0-4ea8-ddf0-f167944c3cf2"
      },
      "execution_count": 15,
      "outputs": [
        {
          "output_type": "stream",
          "name": "stdout",
          "text": [
            "0\n",
            "1\n",
            "2\n",
            "3\n",
            "4\n",
            "5\n",
            "6\n",
            "7\n",
            "8\n"
          ]
        }
      ]
    },
    {
      "cell_type": "code",
      "source": [
        "list(range(2,7)) #By default step size is 1"
      ],
      "metadata": {
        "colab": {
          "base_uri": "https://localhost:8080/"
        },
        "id": "8vIGTjSGK5Og",
        "outputId": "9979eb55-c257-4e99-95ab-ec4bd8df26df"
      },
      "execution_count": 19,
      "outputs": [
        {
          "output_type": "execute_result",
          "data": {
            "text/plain": [
              "[2, 3, 4, 5, 6]"
            ]
          },
          "metadata": {},
          "execution_count": 19
        }
      ]
    },
    {
      "cell_type": "code",
      "source": [
        "list(range(2,7,2))"
      ],
      "metadata": {
        "colab": {
          "base_uri": "https://localhost:8080/"
        },
        "id": "UIjdt5sfK_fq",
        "outputId": "1be7b0d8-37c9-45e5-cb43-23e81c4c294a"
      },
      "execution_count": 20,
      "outputs": [
        {
          "output_type": "execute_result",
          "data": {
            "text/plain": [
              "[2, 4, 6]"
            ]
          },
          "metadata": {},
          "execution_count": 20
        }
      ]
    },
    {
      "cell_type": "code",
      "source": [
        "list(range(0,9,-1)) #Conflict"
      ],
      "metadata": {
        "colab": {
          "base_uri": "https://localhost:8080/"
        },
        "id": "MSfKsYA2LIry",
        "outputId": "38d90b2e-5a74-4429-ff93-2fc1bcb9cc20"
      },
      "execution_count": 22,
      "outputs": [
        {
          "output_type": "execute_result",
          "data": {
            "text/plain": [
              "[]"
            ]
          },
          "metadata": {},
          "execution_count": 22
        }
      ]
    },
    {
      "cell_type": "code",
      "source": [
        "n = 4\n",
        "for i in range(4):\n",
        "  for j in range(0,i+1):\n",
        "    print(\"sudh\", end = \" \")\n",
        "  print(\"\\n\")"
      ],
      "metadata": {
        "colab": {
          "base_uri": "https://localhost:8080/"
        },
        "id": "GHmcFlUSLbgJ",
        "outputId": "9cb9b779-9ca5-4c86-a2c3-abd6f6fea913"
      },
      "execution_count": 23,
      "outputs": [
        {
          "output_type": "stream",
          "name": "stdout",
          "text": [
            "sudh \n",
            "\n",
            "sudh sudh \n",
            "\n",
            "sudh sudh sudh \n",
            "\n",
            "sudh sudh sudh sudh \n",
            "\n"
          ]
        }
      ]
    },
    {
      "cell_type": "code",
      "source": [
        "print(\"Print equilateral triangle Pyramid using txt  \")\n",
        "# printing full Triangle pyramid using stars\n",
        "size = 3\n",
        "m = (2 * size) - 2\n",
        "for i in range(0, size):\n",
        "    for j in range(0, m):\n",
        "        print(end=\" \")\n",
        "    # decrementing m after each loop\n",
        "    m = m - 1\n",
        "    for j in range(0, i + 1):\n",
        "        print(\"sudh \", end=' ')\n",
        "    print(\" \")"
      ],
      "metadata": {
        "colab": {
          "base_uri": "https://localhost:8080/"
        },
        "id": "lFdPrNmIMJfo",
        "outputId": "a03bcef7-8905-47d5-ee19-f831336638ec"
      },
      "execution_count": 25,
      "outputs": [
        {
          "output_type": "stream",
          "name": "stdout",
          "text": [
            "Print equilateral triangle Pyramid using txt  \n",
            "    sudh   \n",
            "   sudh  sudh   \n",
            "  sudh  sudh  sudh   \n"
          ]
        }
      ]
    },
    {
      "cell_type": "code",
      "source": [
        "t = (3,23,45,67,2,4,5,6)\n",
        "for i in t:\n",
        "  print(t.index(i), \":\", i)\n",
        "  print(\"\\n\")"
      ],
      "metadata": {
        "colab": {
          "base_uri": "https://localhost:8080/"
        },
        "id": "zqqIacIyOwZV",
        "outputId": "05c7ae03-32cb-4c87-b967-fea376cf05e3"
      },
      "execution_count": 26,
      "outputs": [
        {
          "output_type": "stream",
          "name": "stdout",
          "text": [
            "0 : 3\n",
            "\n",
            "\n",
            "1 : 23\n",
            "\n",
            "\n",
            "2 : 45\n",
            "\n",
            "\n",
            "3 : 67\n",
            "\n",
            "\n",
            "4 : 2\n",
            "\n",
            "\n",
            "5 : 4\n",
            "\n",
            "\n",
            "6 : 5\n",
            "\n",
            "\n",
            "7 : 6\n",
            "\n",
            "\n"
          ]
        }
      ]
    },
    {
      "cell_type": "code",
      "source": [
        "#Another way of doing the above\n",
        "for i in range(len(t)):\n",
        "  print(i,t[i])"
      ],
      "metadata": {
        "colab": {
          "base_uri": "https://localhost:8080/"
        },
        "id": "WBrDDYG3Su4X",
        "outputId": "96e03a4d-8b90-4e4f-8c86-dcddfaafe417"
      },
      "execution_count": 29,
      "outputs": [
        {
          "output_type": "stream",
          "name": "stdout",
          "text": [
            "0 3\n",
            "1 23\n",
            "2 45\n",
            "3 67\n",
            "4 2\n",
            "5 4\n",
            "6 5\n",
            "7 6\n"
          ]
        }
      ]
    },
    {
      "cell_type": "code",
      "source": [
        "s = \"ineuron\"\n",
        "for i in range(len(s)):\n",
        "  print(i,s[i])"
      ],
      "metadata": {
        "colab": {
          "base_uri": "https://localhost:8080/"
        },
        "id": "YwT6b3r1TBtj",
        "outputId": "cd05b43e-f21c-4241-e4be-97b16d173417"
      },
      "execution_count": 30,
      "outputs": [
        {
          "output_type": "stream",
          "name": "stdout",
          "text": [
            "0 i\n",
            "1 n\n",
            "2 e\n",
            "3 u\n",
            "4 r\n",
            "5 o\n",
            "6 n\n"
          ]
        }
      ]
    },
    {
      "cell_type": "code",
      "source": [
        "#Suppose we want reverse of above\n",
        "for i in range(len(s)-1,-1,-1):\n",
        "  print(i,s[i])"
      ],
      "metadata": {
        "colab": {
          "base_uri": "https://localhost:8080/"
        },
        "id": "LvVaPjGsUPY7",
        "outputId": "889b4b5e-eb0f-4328-d568-76b5b9d5e0ef"
      },
      "execution_count": 31,
      "outputs": [
        {
          "output_type": "stream",
          "name": "stdout",
          "text": [
            "6 n\n",
            "5 o\n",
            "4 r\n",
            "3 u\n",
            "2 e\n",
            "1 n\n",
            "0 i\n"
          ]
        }
      ]
    },
    {
      "cell_type": "code",
      "source": [
        "#Get dictionary keys and values in form of tuples\n",
        "d\n",
        "for i in d.items():\n",
        "  print(i,type(i),type(i[1]))"
      ],
      "metadata": {
        "colab": {
          "base_uri": "https://localhost:8080/"
        },
        "id": "9mJC-1trVakt",
        "outputId": "8ac88cb8-199a-41b1-aacc-105b03438fab"
      },
      "execution_count": 36,
      "outputs": [
        {
          "output_type": "stream",
          "name": "stdout",
          "text": [
            "('key1', 'sudh') <class 'tuple'> <class 'str'>\n",
            "('contact', 'sudhanshu@ineuron.ai') <class 'tuple'> <class 'str'>\n",
            "('position', 'xyz') <class 'tuple'> <class 'str'>\n"
          ]
        }
      ]
    },
    {
      "cell_type": "code",
      "source": [
        "l = ['sudh','kumar',323456,'sudhanshu@ineuron@ai',345,3453243]\n",
        "l1 = []\n",
        "for i in l:\n",
        "  if type(i) == int:\n",
        "    l1.append(i)"
      ],
      "metadata": {
        "id": "m3ss-iHIV64a"
      },
      "execution_count": 38,
      "outputs": []
    },
    {
      "cell_type": "code",
      "source": [
        "l1"
      ],
      "metadata": {
        "colab": {
          "base_uri": "https://localhost:8080/"
        },
        "id": "eSex_1G1Xzvn",
        "outputId": "e5216db0-9ea9-42ad-f95f-08651c1c5813"
      },
      "execution_count": 39,
      "outputs": [
        {
          "output_type": "execute_result",
          "data": {
            "text/plain": [
              "[323456, 345, 3453243]"
            ]
          },
          "metadata": {},
          "execution_count": 39
        }
      ]
    },
    {
      "cell_type": "code",
      "source": [
        "d = {1: 34354, \"name\" : \"sudh\", \"emailid\": \"sudhanshu@ineuron.ai\",234:'dsafsa'}\n",
        "for i in d:\n",
        "  if type(i) == int:\n",
        "   print(i,':',d[i])"
      ],
      "metadata": {
        "colab": {
          "base_uri": "https://localhost:8080/"
        },
        "id": "oIMeP6PIX4OK",
        "outputId": "f6d65cbf-4c73-4040-9be2-40d1baff4bbf"
      },
      "execution_count": 41,
      "outputs": [
        {
          "output_type": "stream",
          "name": "stdout",
          "text": [
            "1 : 34354\n",
            "234 : dsafsa\n"
          ]
        }
      ]
    },
    {
      "cell_type": "code",
      "source": [
        "s = \"aaaabbccd\" #I want output as a : 4, b:2, c:2, d:1\n",
        "for i in set(s):  #Set gives us unique elements\n",
        "  print(i,\":\",s.count(i))"
      ],
      "metadata": {
        "colab": {
          "base_uri": "https://localhost:8080/"
        },
        "id": "9p3OvBklYUbu",
        "outputId": "ba620d00-ef4c-422f-8157-3ee903ec62f8"
      },
      "execution_count": 43,
      "outputs": [
        {
          "output_type": "stream",
          "name": "stdout",
          "text": [
            "d : 1\n",
            "a : 4\n",
            "c : 2\n",
            "b : 2\n"
          ]
        }
      ]
    },
    {
      "cell_type": "code",
      "source": [
        "s = \"aaaabbccd\" \n",
        "s.count('a')"
      ],
      "metadata": {
        "colab": {
          "base_uri": "https://localhost:8080/"
        },
        "id": "TPV90gT6ZxNw",
        "outputId": "a44e52d7-eb1c-439e-c10f-29f3c099d170"
      },
      "execution_count": 42,
      "outputs": [
        {
          "output_type": "execute_result",
          "data": {
            "text/plain": [
              "4"
            ]
          },
          "metadata": {},
          "execution_count": 42
        }
      ]
    },
    {
      "cell_type": "code",
      "source": [
        "i = 3454645361436534\n",
        "i1 = str(i)\n",
        "\n",
        "for T in i1: \n",
        "  print(T)\n"
      ],
      "metadata": {
        "colab": {
          "base_uri": "https://localhost:8080/"
        },
        "id": "2RMpFgi5Zz8f",
        "outputId": "25d94ea4-1b19-4520-9c26-203c345cdb06"
      },
      "execution_count": 47,
      "outputs": [
        {
          "output_type": "stream",
          "name": "stdout",
          "text": [
            "3\n",
            "4\n",
            "5\n",
            "4\n",
            "6\n",
            "4\n",
            "5\n",
            "3\n",
            "6\n",
            "1\n",
            "4\n",
            "3\n",
            "6\n",
            "5\n",
            "3\n",
            "4\n"
          ]
        }
      ]
    },
    {
      "cell_type": "code",
      "source": [
        "#Print where we get 3 \n",
        "t = ('sudh','kumar',3,[1,2,3,4,5,6],(3,4,5,6,7),{3:\"sudh\",\"key2\":\"kumar\"})\n",
        "for i in t:\n",
        "  if type(i) == list or type(i) == tuple or type(i) == dict:\n",
        "    for j in i:\n",
        "      if j == 3:\n",
        "        print(j)\n",
        "    "
      ],
      "metadata": {
        "colab": {
          "base_uri": "https://localhost:8080/"
        },
        "id": "n_P6of6rdgeG",
        "outputId": "2c3c6f52-e6c7-47b7-d830-1307a3970193"
      },
      "execution_count": 54,
      "outputs": [
        {
          "output_type": "stream",
          "name": "stdout",
          "text": [
            "3\n",
            "3\n",
            "3\n"
          ]
        }
      ]
    },
    {
      "cell_type": "code",
      "source": [
        "#Print where we get 3 \n",
        "t = ('sudh','kumar',3,[1,2,3,4,5,6],(3,4,5,6,7),{3:3,\"key2\":\"kumar\"})\n",
        "for i in t:\n",
        "  if type(i) == list or type(i) == tuple :\n",
        "    for j in i:\n",
        "      if j == 3:\n",
        "        print(j)\n",
        "  if type(i) == dict :\n",
        "    for k,v in i.items():\n",
        "      if k ==3 or v == 3:\n",
        "        print(k)\n",
        "        print(v)"
      ],
      "metadata": {
        "colab": {
          "base_uri": "https://localhost:8080/"
        },
        "id": "EySrf_4PeHMA",
        "outputId": "533873ec-da9a-42f7-cb74-e18e36df1e78"
      },
      "execution_count": 57,
      "outputs": [
        {
          "output_type": "stream",
          "name": "stdout",
          "text": [
            "3\n",
            "3\n",
            "3\n",
            "3\n"
          ]
        }
      ]
    },
    {
      "cell_type": "code",
      "source": [
        ""
      ],
      "metadata": {
        "id": "hYFm02BIgeN5"
      },
      "execution_count": null,
      "outputs": []
    }
  ]
}